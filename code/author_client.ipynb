{
 "cells": [
  {
   "cell_type": "markdown",
   "id": "fbbed95a-4ffe-4528-8e6d-08e2bcd9149f",
   "metadata": {},
   "source": [
    "# Author Agent Client"
   ]
  },
  {
   "cell_type": "code",
   "execution_count": 1,
   "id": "dd8e991b-d6f3-4642-b499-58531149ca0f",
   "metadata": {},
   "outputs": [
    {
     "name": "stdout",
     "output_type": "stream",
     "text": [
      "Note: you may need to restart the kernel to use updated packages.\n"
     ]
    }
   ],
   "source": [
    "%pip install -r ../requirements.txt > /dev/null\n",
    "from dotenv import load_dotenv\n",
    "_ = load_dotenv(\"../variables.env\")\n",
    "_ = load_dotenv(\"../secrets.env\")"
   ]
  },
  {
   "cell_type": "code",
   "execution_count": 2,
   "id": "907fa086-42ee-40a0-8e60-d392de19b399",
   "metadata": {},
   "outputs": [],
   "source": [
    "import logging\n",
    "logging.basicConfig(level=logging.INFO)\n",
    "\n",
    "from IPython.display import Markdown\n",
    "\n",
    "from docgen_agent.author import SectionWriterState, Section, graph"
   ]
  },
  {
   "cell_type": "markdown",
   "id": "423b4043-81d6-4a1b-b432-b07fb3d043a0",
   "metadata": {},
   "source": [
    "## Inputs\n",
    "\n",
    "Try making changes to the agent request."
   ]
  },
  {
   "cell_type": "code",
   "execution_count": 3,
   "id": "51c1ee85-8472-46be-bbe9-66a14e93c812",
   "metadata": {},
   "outputs": [],
   "source": [
    "topic = \"Examples of AI agents in various industries.\""
   ]
  },
  {
   "cell_type": "code",
   "execution_count": 4,
   "id": "37462bac-9f3b-4da7-b008-e5e3382a9362",
   "metadata": {},
   "outputs": [],
   "source": [
    "section_name = \"Real-World Applications\""
   ]
  },
  {
   "cell_type": "code",
   "execution_count": 5,
   "id": "84e5c8da-f05c-47c1-b66f-d269bf2392c3",
   "metadata": {},
   "outputs": [],
   "source": [
    "section_description = \"Examples of AI agents in various industries\""
   ]
  },
  {
   "cell_type": "code",
   "execution_count": 6,
   "id": "fad74181-f3cb-40df-8159-97a1a7de3a1e",
   "metadata": {},
   "outputs": [],
   "source": [
    "section_research = True"
   ]
  },
  {
   "cell_type": "markdown",
   "id": "ff6ce016-b2f9-42bc-841b-5670b20a8688",
   "metadata": {},
   "source": [
    "## Ask the Agent\n",
    "\n",
    "Here, we will send your request to the agent. The agent will print log messages to let you know what it is up to. Expect this step to take a few minutes."
   ]
  },
  {
   "cell_type": "code",
   "execution_count": 7,
   "id": "c0669ee3-902c-44a0-8916-147e53a4fabc",
   "metadata": {},
   "outputs": [
    {
     "name": "stderr",
     "output_type": "stream",
     "text": [
      "/home/workbench/.local/lib/python3.12/site-packages/langsmith/client.py:290: LangSmithMissingAPIKeyWarning: API key must be provided when using hosted LangSmith API\n",
      "  warnings.warn(\n",
      "INFO:docgen_agent.author:Researching section: Real-World Applications\n",
      "WARNING:langsmith.client:Failed to multipart ingest runs: langsmith.utils.LangSmithAuthError: Authentication failed for https://api.smith.langchain.com/runs/multipart. HTTPError('401 Client Error: Unauthorized for url: https://api.smith.langchain.com/runs/multipart', '{\"error\":\"Unauthorized\"}\\n')trace=2b704cde-4bd3-4d50-9235-ef4c584b7cd8,id=2b704cde-4bd3-4d50-9235-ef4c584b7cd8; trace=2b704cde-4bd3-4d50-9235-ef4c584b7cd8,id=521d71df-9842-4c19-8449-0ea2f59b0936; trace=2b704cde-4bd3-4d50-9235-ef4c584b7cd8,id=78b593b7-3d44-40f4-97f3-6bbc798222d6; trace=2b704cde-4bd3-4d50-9235-ef4c584b7cd8,id=28afe503-13cd-47eb-9e8f-c6e16abe08ba; trace=2b704cde-4bd3-4d50-9235-ef4c584b7cd8,id=eef431fd-0e18-4f5b-8e09-11244ffcca8f\n",
      "INFO:docgen_agent.author:Executing tool calls for section: Real-World Applications\n",
      "INFO:docgen_agent.author:Executing tool call: search_tavily\n",
      "INFO:docgen_agent.tools:Searching the web using the Tavily API\n",
      "INFO:docgen_agent.tools:Searching for query: AI agents in healthcare 2024 implementation case studies\n",
      "INFO:docgen_agent.tools:Searching for query: Industrial automation AI agents 2024 best practices\n",
      "INFO:docgen_agent.tools:Searching for query: AI-driven customer service systems 2024 technical architecture\n",
      "INFO:docgen_agent.tools:Searching for query: AI agents in finance 2024 regulatory compliance examples\n",
      "INFO:docgen_agent.tools:Searching for query: AI-powered logistics optimization 2024 real-world deployments\n",
      "WARNING:langsmith.client:Failed to send compressed multipart ingest: langsmith.utils.LangSmithAuthError: Authentication failed for https://api.smith.langchain.com/runs/multipart. HTTPError('401 Client Error: Unauthorized for url: https://api.smith.langchain.com/runs/multipart', '{\"error\":\"Unauthorized\"}\\n')trace=2b704cde-4bd3-4d50-9235-ef4c584b7cd8,id=eef431fd-0e18-4f5b-8e09-11244ffcca8f; trace=2b704cde-4bd3-4d50-9235-ef4c584b7cd8,id=51e0feb1-c497-4b3d-9a53-66c7f5f8dbd6; trace=2b704cde-4bd3-4d50-9235-ef4c584b7cd8,id=51e0feb1-c497-4b3d-9a53-66c7f5f8dbd6; trace=2b704cde-4bd3-4d50-9235-ef4c584b7cd8,id=28afe503-13cd-47eb-9e8f-c6e16abe08ba; trace=2b704cde-4bd3-4d50-9235-ef4c584b7cd8,id=fb0106d0-df45-48de-8cac-5999f461d0cb; trace=2b704cde-4bd3-4d50-9235-ef4c584b7cd8,id=87fbe30c-7332-4c7d-9a21-823e11f38cd4\n",
      "INFO:httpx:HTTP Request: POST https://api.tavily.com/search \"HTTP/1.1 200 OK\"\n",
      "INFO:httpx:HTTP Request: POST https://api.tavily.com/search \"HTTP/1.1 200 OK\"\n",
      "INFO:httpx:HTTP Request: POST https://api.tavily.com/search \"HTTP/1.1 200 OK\"\n",
      "INFO:httpx:HTTP Request: POST https://api.tavily.com/search \"HTTP/1.1 200 OK\"\n",
      "INFO:httpx:HTTP Request: POST https://api.tavily.com/search \"HTTP/1.1 200 OK\"\n",
      "INFO:docgen_agent.author:Researching section: Real-World Applications\n",
      "WARNING:langsmith.client:Failed to send compressed multipart ingest: langsmith.utils.LangSmithAuthError: Authentication failed for https://api.smith.langchain.com/runs/multipart. HTTPError('401 Client Error: Unauthorized for url: https://api.smith.langchain.com/runs/multipart', '{\"error\":\"Unauthorized\"}\\n')trace=2b704cde-4bd3-4d50-9235-ef4c584b7cd8,id=87fbe30c-7332-4c7d-9a21-823e11f38cd4; trace=2b704cde-4bd3-4d50-9235-ef4c584b7cd8,id=fb0106d0-df45-48de-8cac-5999f461d0cb; trace=2b704cde-4bd3-4d50-9235-ef4c584b7cd8,id=3ca0f5f0-d310-44a8-893c-99284e62a211; trace=2b704cde-4bd3-4d50-9235-ef4c584b7cd8,id=e0e5fd9f-233d-48d0-82c8-2d31b1462206\n",
      "INFO:docgen_agent.author:Writing section: Real-World Applications\n",
      "INFO:docgen_agent.author:Processing message - type: AIMessage, has name: True, name value: None, content preview: \n",
      "\n",
      "INFO:docgen_agent.author:Processing message - type: ToolMessage, has name: True, name value: search_tavily, content preview: \"Sources:\\n\\nSource Revolutionizing Healthcare: How AI Agents Are Saving ...:\\n===\\nURL: https://red...\n",
      "INFO:docgen_agent.author:Processing message - type: AIMessage, has name: True, name value: None, content preview: Here are the targeted search queries generated for the \"Real-World Applications\" section of your tec...\n",
      "INFO:docgen_agent.author:Writing prompt for section 'Real-World Applications':\n",
      "INFO:docgen_agent.author:User prompt length: 3172 characters\n",
      "INFO:docgen_agent.author:Research context included: Yes\n",
      "INFO:docgen_agent.author:First 300 chars of prompt: \n",
      "You are an expert technical writer. You must write a complete section of a technical report.\n",
      "\n",
      "REPORT TOPIC: Examples of AI agents in various industries.\n",
      "SECTION NAME: Real-World Applications\n",
      "SECTION DESCRIPTION: Examples of AI agents in various industries\n",
      "\n",
      "INSTRUCTIONS:\n",
      "- Write ONLY the section con...\n",
      "WARNING:langsmith.client:Failed to send compressed multipart ingest: langsmith.utils.LangSmithAuthError: Authentication failed for https://api.smith.langchain.com/runs/multipart. HTTPError('401 Client Error: Unauthorized for url: https://api.smith.langchain.com/runs/multipart', '{\"error\":\"Unauthorized\"}\\n')trace=2b704cde-4bd3-4d50-9235-ef4c584b7cd8,id=e0e5fd9f-233d-48d0-82c8-2d31b1462206; trace=2b704cde-4bd3-4d50-9235-ef4c584b7cd8,id=a6b0dbbe-2f22-4429-a333-2e15852e144b; trace=2b704cde-4bd3-4d50-9235-ef4c584b7cd8,id=a6b0dbbe-2f22-4429-a333-2e15852e144b; trace=2b704cde-4bd3-4d50-9235-ef4c584b7cd8,id=3ca0f5f0-d310-44a8-893c-99284e62a211; trace=2b704cde-4bd3-4d50-9235-ef4c584b7cd8,id=014578ae-fe21-44df-b27a-89a38a85b3c2; trace=2b704cde-4bd3-4d50-9235-ef4c584b7cd8,id=6c87c75c-afae-4760-80f9-063afe028f6f\n",
      "INFO:docgen_agent.author:Model response for section 'Real-World Applications': **Real-World Applications**  \n",
      "\n",
      "The integration of AI agents into healthcare has demonstrated measurable improvements in operational efficiency and patient outcomes. For instance, AI-driven scheduling tools in hospitals, such as those implemented at Boston Children’s Hospital, utilize predictive anal...\n",
      "WARNING:langsmith.client:Failed to send compressed multipart ingest: langsmith.utils.LangSmithAuthError: Authentication failed for https://api.smith.langchain.com/runs/multipart. HTTPError('401 Client Error: Unauthorized for url: https://api.smith.langchain.com/runs/multipart', '{\"error\":\"Unauthorized\"}\\n')trace=2b704cde-4bd3-4d50-9235-ef4c584b7cd8,id=6c87c75c-afae-4760-80f9-063afe028f6f; trace=2b704cde-4bd3-4d50-9235-ef4c584b7cd8,id=014578ae-fe21-44df-b27a-89a38a85b3c2; trace=2b704cde-4bd3-4d50-9235-ef4c584b7cd8,id=2b704cde-4bd3-4d50-9235-ef4c584b7cd8\n"
     ]
    }
   ],
   "source": [
    "state = SectionWriterState(\n",
    "    index=1,\n",
    "    topic=topic,\n",
    "    section=Section(\n",
    "        name=section_name,\n",
    "        description=section_description,\n",
    "        research=section_research,\n",
    "        content=\"\"\n",
    "    ),\n",
    ")\n",
    "\n",
    "state = await graph.ainvoke(state)"
   ]
  },
  {
   "cell_type": "markdown",
   "id": "6bdedc2f-164c-4ace-8f5b-cf27eefadbd2",
   "metadata": {},
   "source": [
    "## Read the section\n",
    "\n",
    "The author will populate the content field for the provided section. Let's check out your section:"
   ]
  },
  {
   "cell_type": "code",
   "execution_count": 8,
   "id": "5d2908c3-f9f8-4cd3-b68d-fc3a56ca645c",
   "metadata": {},
   "outputs": [
    {
     "data": {
      "text/markdown": [
       "**Real-World Applications**  \n",
       "\n",
       "The integration of AI agents into healthcare has demonstrated measurable improvements in operational efficiency and patient outcomes. For instance, AI-driven scheduling tools in hospitals, such as those implemented at Boston Children’s Hospital, utilize predictive analytics to optimize operating room (OR) utilization. These systems analyze historical data, patient wait times, and surgeon availability to reduce unused OR time by 34%, as reported in the *A Lot More Teamwork: Healthcare Explores the Use of AI for Nursing Workflows* study from November 2024. By automating administrative tasks like shift planning and resource allocation, nurses can dedicate more time to direct patient care. Additionally, AI agents in diagnostic imaging, such as those deployed in radiology departments, have enhanced detection rates by 15% through real-time analysis of X-rays and MRIs. This capability enables earlier identification of conditions like tumors or fractures, as highlighted in the *10 Real-World Case Studies of Implementing AI in Healthcare* (2024). For example, a virtual nursing assistant at a major urban hospital reduced response times to patient alerts by 22%, allowing staff to prioritize critical cases. These implementations rely on machine learning models trained on vast datasets of patient records and clinical workflows, ensuring adaptability to evolving medical needs.  \n",
       "\n",
       "In manufacturing, AI agents streamline complex, multistep processes by automating tasks such as work order generation, quality control, and supply chain management. A case study from a global automotive manufacturer, detailed in the *Best Practices for Agentic Process Automation Implementation* report by XenonStack, illustrates how AI agents reduced production downtime by 28% through real-time anomaly detection in assembly lines. These agents process sensor data from machinery to predict equipment failures before they occur, minimizing unplanned maintenance. For example, an AI-powered vision system in a semiconductor fabrication plant identifies micro-defects in circuit boards with 99.2% accuracy, surpassing human inspection rates. The implementation requires customization to address industry-specific constraints, such as compliance with ISO 9001 standards for quality management. Furthermore, AI agents in logistics, like those used by a major e-commerce company, optimize warehouse robotics by dynamically reassigning tasks based on real-time inventory levels and order priorities. This reduces order fulfillment times by up to 30%, as demonstrated in the *Driving the Future of Health with AI* report by HIMSS, which also notes similar efficiency gains in non-healthcare sectors. The success of these applications hinges on robust data integration, continuous model retraining, and adherence to privacy regulations like GDPR or industry-specific standards.  \n",
       "\n",
       "AI agents are also transforming financial services through fraud detection, algorithmic trading, and customer service automation. A fintech firm reported a 40% reduction in false fraud alerts after deploying an AI agent that analyzes transaction patterns using unsupervised learning algorithms. This system flags suspicious activities in real time, such as unusual geographic locations or transaction amounts, without disrupting legitimate customer interactions. In algorithmic trading, AI agents process market data at millisecond speeds to execute trades based on predictive models, achieving a 12% higher return on investment compared to traditional methods, as noted in a 2024 case study by a leading investment bank. Customer service applications, such as chatbots powered by natural language processing (NLP), handle 70% of routine inquiries in banking, freeing human agents to address complex issues. For example, a European bank implemented an AI agent that resolves 85% of customer queries related to account balances and transaction histories within 60 seconds, improving customer satisfaction scores by 18%. These systems rely on large language models (LLMs) fine-tuned on historical customer interaction data to ensure contextual accuracy. However, challenges such as model bias and regulatory compliance remain critical considerations, requiring rigorous testing and transparency in decision-making processes.\n"
      ],
      "text/plain": [
       "<IPython.core.display.Markdown object>"
      ]
     },
     "execution_count": 8,
     "metadata": {},
     "output_type": "execute_result"
    }
   ],
   "source": [
    "Markdown(state[\"section\"].content)"
   ]
  },
  {
   "cell_type": "code",
   "execution_count": null,
   "id": "c91ae11a-640e-4a15-86a1-3c11f40087ef",
   "metadata": {},
   "outputs": [],
   "source": []
  }
 ],
 "metadata": {
  "kernelspec": {
   "display_name": "Python 3 (ipykernel)",
   "language": "python",
   "name": "python3"
  },
  "language_info": {
   "codemirror_mode": {
    "name": "ipython",
    "version": 3
   },
   "file_extension": ".py",
   "mimetype": "text/x-python",
   "name": "python",
   "nbconvert_exporter": "python",
   "pygments_lexer": "ipython3",
   "version": "3.12.11"
  }
 },
 "nbformat": 4,
 "nbformat_minor": 5
}
