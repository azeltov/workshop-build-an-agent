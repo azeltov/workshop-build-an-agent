{
 "cells": [
  {
   "cell_type": "markdown",
   "id": "fbbed95a-4ffe-4528-8e6d-08e2bcd9149f",
   "metadata": {},
   "source": [
    "# Research Agent Client"
   ]
  },
  {
   "cell_type": "code",
   "execution_count": 1,
   "id": "ed12a14e-9121-4067-aa02-861b6c7b7c48",
   "metadata": {},
   "outputs": [
    {
     "name": "stdout",
     "output_type": "stream",
     "text": [
      "Note: you may need to restart the kernel to use updated packages.\n"
     ]
    }
   ],
   "source": [
    "%pip install -r ../requirements.txt > /dev/null\n",
    "from dotenv import load_dotenv\n",
    "_ = load_dotenv(\"../variables.env\")\n",
    "_ = load_dotenv(\"../secrets.env\")"
   ]
  },
  {
   "cell_type": "code",
   "execution_count": 2,
   "id": "907fa086-42ee-40a0-8e60-d392de19b399",
   "metadata": {},
   "outputs": [],
   "source": [
    "import logging\n",
    "logging.basicConfig(level=logging.INFO)\n",
    "\n",
    "from IPython.display import Markdown\n",
    "\n",
    "from docgen_agent.researcher import ResearcherState, graph"
   ]
  },
  {
   "cell_type": "markdown",
   "id": "423b4043-81d6-4a1b-b432-b07fb3d043a0",
   "metadata": {},
   "source": [
    "## Inputs\n",
    "\n",
    "Try making changes to the agent request."
   ]
  },
  {
   "cell_type": "code",
   "execution_count": 3,
   "id": "51c1ee85-8472-46be-bbe9-66a14e93c812",
   "metadata": {},
   "outputs": [],
   "source": [
    "topic = \"Examples of AI agents in various industries.\""
   ]
  },
  {
   "cell_type": "markdown",
   "id": "ff6ce016-b2f9-42bc-841b-5670b20a8688",
   "metadata": {},
   "source": [
    "## Ask the Agent\n",
    "\n",
    "Here, we will send your request to the agent. The agent will print log messages to let you know what it is up to. Expect this step to take a few minutes."
   ]
  },
  {
   "cell_type": "code",
   "execution_count": 4,
   "id": "c0669ee3-902c-44a0-8916-147e53a4fabc",
   "metadata": {},
   "outputs": [
    {
     "name": "stderr",
     "output_type": "stream",
     "text": [
      "/home/workbench/.local/lib/python3.12/site-packages/langsmith/client.py:290: LangSmithMissingAPIKeyWarning: API key must be provided when using hosted LangSmith API\n",
      "  warnings.warn(\n",
      "INFO:docgen_agent.researcher:Calling model.\n",
      "WARNING:langsmith.client:Failed to multipart ingest runs: langsmith.utils.LangSmithAuthError: Authentication failed for https://api.smith.langchain.com/runs/multipart. HTTPError('401 Client Error: Unauthorized for url: https://api.smith.langchain.com/runs/multipart', '{\"error\":\"Unauthorized\"}\\n')trace=410b0a44-47b2-4b58-b6e8-c4dfe2e2c6bb,id=410b0a44-47b2-4b58-b6e8-c4dfe2e2c6bb; trace=410b0a44-47b2-4b58-b6e8-c4dfe2e2c6bb,id=ac63114f-1015-4f68-a89c-4a9ded2bfe18; trace=410b0a44-47b2-4b58-b6e8-c4dfe2e2c6bb,id=5a0f4296-e488-4bab-ae18-b65dcab881be\n",
      "INFO:docgen_agent.researcher:Executing tool calls.\n",
      "INFO:docgen_agent.researcher:Executing tool call: search_tavily\n",
      "INFO:docgen_agent.tools:Searching the web using the Tavily API\n",
      "INFO:docgen_agent.tools:Searching for query: AI agents in healthcare 2024: technical architecture and real-time decision-making frameworks\n",
      "INFO:docgen_agent.tools:Searching for query: Comparative analysis of AI agents vs traditional automation systems in manufacturing 2024\n",
      "INFO:docgen_agent.tools:Searching for query: AI agent implementation case studies in finance 2024: blockchain integration and regulatory compliance\n",
      "WARNING:langsmith.client:Failed to send compressed multipart ingest: langsmith.utils.LangSmithAuthError: Authentication failed for https://api.smith.langchain.com/runs/multipart. HTTPError('401 Client Error: Unauthorized for url: https://api.smith.langchain.com/runs/multipart', '{\"error\":\"Unauthorized\"}\\n')trace=410b0a44-47b2-4b58-b6e8-c4dfe2e2c6bb,id=5a0f4296-e488-4bab-ae18-b65dcab881be; trace=410b0a44-47b2-4b58-b6e8-c4dfe2e2c6bb,id=a7863a15-7d91-457c-a24c-4a70dac73a1d; trace=410b0a44-47b2-4b58-b6e8-c4dfe2e2c6bb,id=a7863a15-7d91-457c-a24c-4a70dac73a1d; trace=410b0a44-47b2-4b58-b6e8-c4dfe2e2c6bb,id=ac63114f-1015-4f68-a89c-4a9ded2bfe18; trace=410b0a44-47b2-4b58-b6e8-c4dfe2e2c6bb,id=6bafce7a-4f0d-4eb4-b55e-25b3e7df8ac7; trace=410b0a44-47b2-4b58-b6e8-c4dfe2e2c6bb,id=ab1a3751-a144-4519-8d35-727482aa54dc\n",
      "INFO:httpx:HTTP Request: POST https://api.tavily.com/search \"HTTP/1.1 200 OK\"\n",
      "INFO:httpx:HTTP Request: POST https://api.tavily.com/search \"HTTP/1.1 200 OK\"\n",
      "INFO:httpx:HTTP Request: POST https://api.tavily.com/search \"HTTP/1.1 200 OK\"\n",
      "INFO:docgen_agent.researcher:Calling model.\n",
      "WARNING:langsmith.client:Failed to send compressed multipart ingest: langsmith.utils.LangSmithAuthError: Authentication failed for https://api.smith.langchain.com/runs/multipart. HTTPError('401 Client Error: Unauthorized for url: https://api.smith.langchain.com/runs/multipart', '{\"error\":\"Unauthorized\"}\\n')trace=410b0a44-47b2-4b58-b6e8-c4dfe2e2c6bb,id=ab1a3751-a144-4519-8d35-727482aa54dc; trace=410b0a44-47b2-4b58-b6e8-c4dfe2e2c6bb,id=6bafce7a-4f0d-4eb4-b55e-25b3e7df8ac7; trace=410b0a44-47b2-4b58-b6e8-c4dfe2e2c6bb,id=8cb1ae7d-8d37-4b9f-abd4-0c1ca460517d; trace=410b0a44-47b2-4b58-b6e8-c4dfe2e2c6bb,id=b87f9b5b-27e6-47e0-b2a4-a29e4d29685b\n",
      "WARNING:langsmith.client:Failed to send compressed multipart ingest: langsmith.utils.LangSmithAuthError: Authentication failed for https://api.smith.langchain.com/runs/multipart. HTTPError('401 Client Error: Unauthorized for url: https://api.smith.langchain.com/runs/multipart', '{\"error\":\"Unauthorized\"}\\n')trace=410b0a44-47b2-4b58-b6e8-c4dfe2e2c6bb,id=b87f9b5b-27e6-47e0-b2a4-a29e4d29685b; trace=410b0a44-47b2-4b58-b6e8-c4dfe2e2c6bb,id=21bce7f6-d4e0-46a0-800e-16dad968c8ff; trace=410b0a44-47b2-4b58-b6e8-c4dfe2e2c6bb,id=21bce7f6-d4e0-46a0-800e-16dad968c8ff; trace=410b0a44-47b2-4b58-b6e8-c4dfe2e2c6bb,id=8cb1ae7d-8d37-4b9f-abd4-0c1ca460517d; trace=410b0a44-47b2-4b58-b6e8-c4dfe2e2c6bb,id=410b0a44-47b2-4b58-b6e8-c4dfe2e2c6bb\n"
     ]
    }
   ],
   "source": [
    "state = ResearcherState(\n",
    "    topic=topic,\n",
    "    number_of_queries=3,\n",
    ")\n",
    "\n",
    "state = await graph.ainvoke(state)"
   ]
  },
  {
   "cell_type": "markdown",
   "id": "6bdedc2f-164c-4ace-8f5b-cf27eefadbd2",
   "metadata": {},
   "source": [
    "## Examine the results\n",
    "\n",
    "The researcher adds the research results to the chat log so that it is available to all later steps.\n",
    "\n",
    "Let's examine our conversation with the researcher.\n",
    "\n",
    "You should see at least three messages:\n",
    "1. A message from the model requesting a tool call.\n",
    "2. A tool_call message with the raw source data.\n",
    "3. A message from the assistant, summarizing the results."
   ]
  },
  {
   "cell_type": "code",
   "execution_count": 5,
   "id": "fe890305-0f1c-4c8d-a918-b5d0dbbfbe39",
   "metadata": {},
   "outputs": [
    {
     "name": "stdout",
     "output_type": "stream",
     "text": [
      "ROLE:  assistant\n",
      "\n",
      "\n",
      "\n",
      "ROLE:  tool_call\n",
      "\"Sources:\\n\\nSource AI Agents in Modern Healthcare: From Foundation to Pioneer:\\n===\\nURL: https://www.preprints.org/manuscript/202503.1352/v1\\n===\\nMost relevant content from source: Partner Agents, as categorized in [Table 1](https://www.preprints.org/manuscript/202503.1352/v1#preprints-152724-t001), represent a significant advancement in healthcare AI capability, functioning as true team members in clinical settings. AI agents in healthcare are best conceived as compound systems composed of s\n",
      "\n",
      "ROLE:  assistant\n",
      "Here are the three targeted search queries generated based on your requirements:\n",
      "\n",
      "1. **\"AI agents in healthcare 2024: technical architecture and real-time decision-making frameworks\"**  \n",
      "   *(Focuses on technical architecture, includes 2024 for recency, and targets specialized modules like perception/interaction/memory)*\n",
      "\n",
      "2. **\"Comparative analysis of AI agents vs traditional automation systems in manufacturing 2024\"**  \n",
      "   *(Includes ROI comparisons, 2024 marker, and contrasts AI agents with le\n",
      "\n"
     ]
    }
   ],
   "source": [
    "for message in state[\"messages\"]:\n",
    "    print(\"ROLE: \", getattr(message, \"role\", \"tool_call\"))\n",
    "    print(message.content[:500] or message.additional_kwargs)\n",
    "    print(\"\")"
   ]
  },
  {
   "cell_type": "code",
   "execution_count": null,
   "id": "5d2908c3-f9f8-4cd3-b68d-fc3a56ca645c",
   "metadata": {},
   "outputs": [],
   "source": []
  }
 ],
 "metadata": {
  "kernelspec": {
   "display_name": "Python 3 (ipykernel)",
   "language": "python",
   "name": "python3"
  },
  "language_info": {
   "codemirror_mode": {
    "name": "ipython",
    "version": 3
   },
   "file_extension": ".py",
   "mimetype": "text/x-python",
   "name": "python",
   "nbconvert_exporter": "python",
   "pygments_lexer": "ipython3",
   "version": "3.12.11"
  }
 },
 "nbformat": 4,
 "nbformat_minor": 5
}
